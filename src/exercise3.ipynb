{
  "nbformat": 4,
  "nbformat_minor": 0,
  "metadata": {
    "colab": {
      "name": "exercise3.ipynb",
      "provenance": [],
      "collapsed_sections": [],
      "authorship_tag": "ABX9TyNlplKkFmgmMtdDmDO9x0yV",
      "include_colab_link": true
    },
    "kernelspec": {
      "name": "python3",
      "display_name": "Python 3"
    }
  },
  "cells": [
    {
      "cell_type": "markdown",
      "metadata": {
        "id": "view-in-github",
        "colab_type": "text"
      },
      "source": [
        "<a href=\"https://colab.research.google.com/github/Lucs1590/image_challenge/blob/master/src/exercise3.ipynb\" target=\"_parent\"><img src=\"https://colab.research.google.com/assets/colab-badge.svg\" alt=\"Open In Colab\"/></a>"
      ]
    },
    {
      "cell_type": "code",
      "metadata": {
        "id": "N2UdszCD55Vl",
        "colab": {
          "base_uri": "https://localhost:8080/"
        },
        "outputId": "57f86cc1-aa4a-4087-a7be-f336d088969f"
      },
      "source": [
        "!pip install GDAL\n",
        "import operator\n",
        "import cv2\n",
        "from osgeo import gdal,ogr,osr\n",
        "from google.colab import drive"
      ],
      "execution_count": 1,
      "outputs": [
        {
          "output_type": "stream",
          "text": [
            "Requirement already satisfied: GDAL in /usr/local/lib/python3.7/dist-packages (2.2.2)\n"
          ],
          "name": "stdout"
        }
      ]
    },
    {
      "cell_type": "code",
      "metadata": {
        "id": "Y-HYNFx29Fqh",
        "colab": {
          "base_uri": "https://localhost:8080/"
        },
        "outputId": "123bf229-a577-46b0-ce90-7834ff50df59"
      },
      "source": [
        "drive.mount('/content/drive')\n",
        "raster = gdal.Open(r'/content/drive/MyDrive/Outros/talhoes_tifs/4039_01_04 (1).tif')\n",
        "projection = raster.GetProjection()"
      ],
      "execution_count": 2,
      "outputs": [
        {
          "output_type": "stream",
          "text": [
            "Drive already mounted at /content/drive; to attempt to forcibly remount, call drive.mount(\"/content/drive\", force_remount=True).\n"
          ],
          "name": "stdout"
        }
      ]
    },
    {
      "cell_type": "code",
      "metadata": {
        "id": "i7Cex1cO9VaB",
        "colab": {
          "base_uri": "https://localhost:8080/"
        },
        "outputId": "ca1add78-edd1-4d0c-bd5b-2562a5efe5ca"
      },
      "source": [
        "# 1\n",
        "srs = osr.SpatialReference(wkt=projection)\n",
        "if srs.IsProjected:\n",
        "    print(srs.GetAttrValue('projcs'))\n",
        "print(\"Coordinate system: {0}\".format(srs.GetAttrValue('geogcs')))"
      ],
      "execution_count": 3,
      "outputs": [
        {
          "output_type": "stream",
          "text": [
            "SIRGAS 2000 / UTM zone 22S\n",
            "Coordinate system: SIRGAS 2000\n"
          ],
          "name": "stdout"
        }
      ]
    },
    {
      "cell_type": "code",
      "metadata": {
        "id": "bFQDdawtLbQ1",
        "colab": {
          "base_uri": "https://localhost:8080/"
        },
        "outputId": "e48f69e2-b92e-4a1b-a0af-13c9597b83ee"
      },
      "source": [
        "# 3\n",
        "print(\"Image size: {0} pixels x {1} pixels (X x Y)\".format(raster.RasterXSize, raster.RasterYSize))"
      ],
      "execution_count": 4,
      "outputs": [
        {
          "output_type": "stream",
          "text": [
            "Image size: 2396 pixels x 3247 pixels (X x Y)\n"
          ],
          "name": "stdout"
        }
      ]
    },
    {
      "cell_type": "code",
      "metadata": {
        "id": "bUwZi5u0OH5L",
        "colab": {
          "base_uri": "https://localhost:8080/"
        },
        "outputId": "79a4b042-fb60-401b-e2f4-97c7b17769d5"
      },
      "source": [
        "# 4\n",
        "raster_geo_tr = raster.GetGeoTransform()\n",
        "raster_proj_ref = raster.GetProjectionRef()\n",
        "raster_spatial_ref = osr.SpatialReference(raster_proj_ref)\n",
        "geo_srs = raster_spatial_ref.CloneGeogCS()\n",
        "transform = osr.CoordinateTransformation(raster_spatial_ref, geo_srs)\n",
        "raster_bbox_cells = (\n",
        "    (0., 0.),\n",
        "    (0, raster.RasterYSize),\n",
        "    (raster.RasterXSize, raster.RasterYSize),\n",
        "    (raster.RasterXSize, 0),\n",
        ")\n",
        "\n",
        "for x, y in raster_bbox_cells:\n",
        "    x2 = raster_geo_tr[0] + raster_geo_tr[1] * x + raster_geo_tr[2] * y\n",
        "    y2 = raster_geo_tr[3] + raster_geo_tr[4] * x + raster_geo_tr[5] * y\n",
        "    geo_pt = transform.TransformPoint(x2, y2)[:2]\n",
        "    print(\"X: {0}, Y: {1}\".format(x, y), '->' , \"Latitude: {0}, Longitude: {1}\".format(geo_pt[0], geo_pt[1]))\n"
      ],
      "execution_count": 5,
      "outputs": [
        {
          "output_type": "stream",
          "text": [
            "X: 0.0, Y: 0.0 -> Latitude: -49.70197280463707, Longitude: -19.059188492405724\n",
            "X: 0, Y: 3247 -> Latitude: -49.70194997381456, Longitude: -19.062122252673113\n",
            "X: 2396, Y: 3247 -> Latitude: -49.69967322916704, Longitude: -19.06210621797093\n",
            "X: 2396, Y: 0 -> Latitude: -49.69969610000672, Longitude: -19.059172460356496\n"
          ],
          "name": "stdout"
        }
      ]
    },
    {
      "cell_type": "code",
      "metadata": {
        "colab": {
          "base_uri": "https://localhost:8080/"
        },
        "id": "xez2NVDEIvpI",
        "outputId": "249a7711-a867-4be7-c2c3-596f65afffe2"
      },
      "source": [
        "# 2\n",
        "print(\"Resolution: {0} cm/px\".format(round(x2/raster.RasterXSize*0.1, 2)))"
      ],
      "execution_count": 6,
      "outputs": [
        {
          "output_type": "stream",
          "text": [
            "Resolution: 26.58 cm/px\n"
          ],
          "name": "stdout"
        }
      ]
    },
    {
      "cell_type": "code",
      "metadata": {
        "id": "dECTXEnW6JCo"
      },
      "source": [
        "# 5\n",
        "def make_windows(img, img_size, path):\n",
        "    x = 0\n",
        "    for i in range(img_size, img.shape[0], img_size):\n",
        "        for j in range(img_size, img.shape[1], img_size):\n",
        "            cv2.imwrite(\n",
        "                \"{0}{1}.png\".format(path, x), img[i-img_size:i, j-img_size:j])\n",
        "            x += 1\n",
        "    return img"
      ],
      "execution_count": 7,
      "outputs": []
    },
    {
      "cell_type": "code",
      "metadata": {
        "colab": {
          "base_uri": "https://localhost:8080/"
        },
        "id": "w7CZT07uLEIG",
        "outputId": "93308d3a-6a26-40d2-9ed9-3f69222c893e"
      },
      "source": [
        "img_1 = cv2.imread(r\"/content/drive/MyDrive/Outros/talhoes_tifs/talhao_ponkan.tif\")\n",
        "img_2 = cv2.imread(r\"/content/drive/MyDrive/Outros/talhoes_tifs/44359_01 (2).tif\")\n",
        "img_3 = cv2.imread(r\"/content/drive/MyDrive/Outros/talhoes_tifs/talhao_santana2.tif\")\n",
        "\n",
        "make_windows(img_1, 256, \"/content/drive/MyDrive/Outros/talhoes_tifs/results2/\")\n",
        "make_windows(img_2, 256, \"/content/drive/MyDrive/Outros/talhoes_tifs/results3/\")\n",
        "make_windows(img_3, 256, \"/content/drive/MyDrive/Outros/talhoes_tifs/results4/\")"
      ],
      "execution_count": 8,
      "outputs": [
        {
          "output_type": "execute_result",
          "data": {
            "text/plain": [
              "array([[[0, 0, 0],\n",
              "        [0, 0, 0],\n",
              "        [0, 0, 0],\n",
              "        ...,\n",
              "        [0, 0, 0],\n",
              "        [0, 0, 0],\n",
              "        [0, 0, 0]],\n",
              "\n",
              "       [[0, 0, 0],\n",
              "        [0, 0, 0],\n",
              "        [0, 0, 0],\n",
              "        ...,\n",
              "        [0, 0, 0],\n",
              "        [0, 0, 0],\n",
              "        [0, 0, 0]],\n",
              "\n",
              "       [[0, 0, 0],\n",
              "        [0, 0, 0],\n",
              "        [0, 0, 0],\n",
              "        ...,\n",
              "        [0, 0, 0],\n",
              "        [0, 0, 0],\n",
              "        [0, 0, 0]],\n",
              "\n",
              "       ...,\n",
              "\n",
              "       [[0, 0, 0],\n",
              "        [0, 0, 0],\n",
              "        [0, 0, 0],\n",
              "        ...,\n",
              "        [0, 0, 0],\n",
              "        [0, 0, 0],\n",
              "        [0, 0, 0]],\n",
              "\n",
              "       [[0, 0, 0],\n",
              "        [0, 0, 0],\n",
              "        [0, 0, 0],\n",
              "        ...,\n",
              "        [0, 0, 0],\n",
              "        [0, 0, 0],\n",
              "        [0, 0, 0]],\n",
              "\n",
              "       [[0, 0, 0],\n",
              "        [0, 0, 0],\n",
              "        [0, 0, 0],\n",
              "        ...,\n",
              "        [0, 0, 0],\n",
              "        [0, 0, 0],\n",
              "        [0, 0, 0]]], dtype=uint8)"
            ]
          },
          "metadata": {
            "tags": []
          },
          "execution_count": 8
        }
      ]
    }
  ]
}